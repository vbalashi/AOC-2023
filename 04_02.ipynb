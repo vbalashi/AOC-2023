{
 "cells": [
  {
   "cell_type": "code",
   "execution_count": 1,
   "metadata": {},
   "outputs": [],
   "source": [
    "import re\n",
    "import pandas as pd\n",
    "\n",
    "task = '''Card 1: 41 48 83 86 17 | 83 86  6 31 17  9 48 53\n",
    "Card 2: 13 32 20 16 61 | 61 30 68 82 17 32 24 19\n",
    "Card 3:  1 21 53 59 44 | 69 82 63 72 16 21 14  1\n",
    "Card 4: 41 92 73 84 69 | 59 84 76 51 58  5 54 83\n",
    "Card 5: 87 83 26 28 32 | 88 30 70 12 93 22 82 36\n",
    "Card 6: 31 18 13 56 72 | 74 77 10 23 35 67 36 11\n",
    "'''\n",
    "\n",
    "lines = task.splitlines()\n",
    "for line in lines:\n",
    "    line = re.sub(r\"Card \\d+: \", \"\",line)\n"
   ]
  },
  {
   "cell_type": "code",
   "execution_count": 44,
   "metadata": {},
   "outputs": [],
   "source": [
    "file_path = '04_task02.txt'  # Replace with your file path\n",
    "with open(file_path, 'r') as file:\n",
    "    lines = file.readlines()"
   ]
  },
  {
   "cell_type": "code",
   "execution_count": 45,
   "metadata": {},
   "outputs": [],
   "source": [
    "numbers_list = []\n",
    "answers_list = []\n",
    "\n",
    "for line in lines: \n",
    "    line = re.sub(r\"Card +\\d+: \", \"\",line)\n",
    "    parts = line.split(\"|\")\n",
    "    if len(parts) == 2:\n",
    "        numbers, answers = parts\n",
    "    numbers_list.append([int(num) for num in re.split(r'\\D+', numbers.strip()) if num.strip()])\n",
    "    answers_list.append([int(ans) for ans in re.split(r'\\D+', answers.strip()) if ans.strip()])\n",
    "    \n",
    "data = {\"numbers\": numbers_list, \"answers\": answers_list}\n",
    "df = pd.DataFrame(data)\n",
    "\n",
    "def number_of_matches(line_index):\n",
    "    return len(set(df.iloc[line_index]['numbers']).intersection(set(df.iloc[line_index]['answers'])))\n",
    "\n",
    "for index, row in df.iterrows():\n",
    "    df.at[index, 'matches'] = number_of_matches(index)\n",
    "df['matches'] = df['matches'].astype(int)\n",
    "\n",
    "df['instances'] = 1\n",
    "\n",
    "for line_index, row in df.iterrows():\n",
    "    reward_start = line_index + 1\n",
    "    reward_end = line_index + df.iloc[line_index]['matches'] + 1\n",
    "    if reward_end > len(df) + 1:\n",
    "        reward_end = len(df) + 1\n",
    "    cards_to_reward = range(reward_start, reward_end)\n",
    "    for reward_index in cards_to_reward:\n",
    "        df.at[reward_index, 'instances'] += df.iloc[line_index]['instances']\n"
   ]
  },
  {
   "cell_type": "code",
   "execution_count": 41,
   "metadata": {},
   "outputs": [
    {
     "data": {
      "text/html": [
       "<div>\n",
       "<style scoped>\n",
       "    .dataframe tbody tr th:only-of-type {\n",
       "        vertical-align: middle;\n",
       "    }\n",
       "\n",
       "    .dataframe tbody tr th {\n",
       "        vertical-align: top;\n",
       "    }\n",
       "\n",
       "    .dataframe thead th {\n",
       "        text-align: right;\n",
       "    }\n",
       "</style>\n",
       "<table border=\"1\" class=\"dataframe\">\n",
       "  <thead>\n",
       "    <tr style=\"text-align: right;\">\n",
       "      <th></th>\n",
       "      <th>numbers</th>\n",
       "      <th>answers</th>\n",
       "      <th>matches</th>\n",
       "      <th>instances</th>\n",
       "    </tr>\n",
       "  </thead>\n",
       "  <tbody>\n",
       "    <tr>\n",
       "      <th>0</th>\n",
       "      <td>[41, 48, 83, 86, 17]</td>\n",
       "      <td>[83, 86, 6, 31, 17, 9, 48, 53]</td>\n",
       "      <td>4</td>\n",
       "      <td>1</td>\n",
       "    </tr>\n",
       "    <tr>\n",
       "      <th>1</th>\n",
       "      <td>[13, 32, 20, 16, 61]</td>\n",
       "      <td>[61, 30, 68, 82, 17, 32, 24, 19]</td>\n",
       "      <td>2</td>\n",
       "      <td>2</td>\n",
       "    </tr>\n",
       "    <tr>\n",
       "      <th>2</th>\n",
       "      <td>[1, 21, 53, 59, 44]</td>\n",
       "      <td>[69, 82, 63, 72, 16, 21, 14, 1]</td>\n",
       "      <td>2</td>\n",
       "      <td>4</td>\n",
       "    </tr>\n",
       "    <tr>\n",
       "      <th>3</th>\n",
       "      <td>[41, 92, 73, 84, 69]</td>\n",
       "      <td>[59, 84, 76, 51, 58, 5, 54, 83]</td>\n",
       "      <td>1</td>\n",
       "      <td>8</td>\n",
       "    </tr>\n",
       "    <tr>\n",
       "      <th>4</th>\n",
       "      <td>[87, 83, 26, 28, 32]</td>\n",
       "      <td>[88, 30, 70, 12, 93, 22, 82, 36]</td>\n",
       "      <td>0</td>\n",
       "      <td>14</td>\n",
       "    </tr>\n",
       "    <tr>\n",
       "      <th>5</th>\n",
       "      <td>[31, 18, 13, 56, 72]</td>\n",
       "      <td>[74, 77, 10, 23, 35, 67, 36, 11]</td>\n",
       "      <td>0</td>\n",
       "      <td>1</td>\n",
       "    </tr>\n",
       "  </tbody>\n",
       "</table>\n",
       "</div>"
      ],
      "text/plain": [
       "                numbers                           answers  matches  instances\n",
       "0  [41, 48, 83, 86, 17]    [83, 86, 6, 31, 17, 9, 48, 53]        4          1\n",
       "1  [13, 32, 20, 16, 61]  [61, 30, 68, 82, 17, 32, 24, 19]        2          2\n",
       "2   [1, 21, 53, 59, 44]   [69, 82, 63, 72, 16, 21, 14, 1]        2          4\n",
       "3  [41, 92, 73, 84, 69]   [59, 84, 76, 51, 58, 5, 54, 83]        1          8\n",
       "4  [87, 83, 26, 28, 32]  [88, 30, 70, 12, 93, 22, 82, 36]        0         14\n",
       "5  [31, 18, 13, 56, 72]  [74, 77, 10, 23, 35, 67, 36, 11]        0          1"
      ]
     },
     "execution_count": 41,
     "metadata": {},
     "output_type": "execute_result"
    }
   ],
   "source": [
    "df"
   ]
  },
  {
   "cell_type": "code",
   "execution_count": 46,
   "metadata": {},
   "outputs": [
    {
     "data": {
      "text/plain": [
       "5667240"
      ]
     },
     "execution_count": 46,
     "metadata": {},
     "output_type": "execute_result"
    }
   ],
   "source": [
    "sum(df['instances'])"
   ]
  },
  {
   "cell_type": "code",
   "execution_count": null,
   "metadata": {},
   "outputs": [],
   "source": []
  }
 ],
 "metadata": {
  "kernelspec": {
   "display_name": "base",
   "language": "python",
   "name": "python3"
  },
  "language_info": {
   "codemirror_mode": {
    "name": "ipython",
    "version": 3
   },
   "file_extension": ".py",
   "mimetype": "text/x-python",
   "name": "python",
   "nbconvert_exporter": "python",
   "pygments_lexer": "ipython3",
   "version": "3.11.5"
  }
 },
 "nbformat": 4,
 "nbformat_minor": 2
}
