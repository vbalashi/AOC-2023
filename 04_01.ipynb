{
 "cells": [
  {
   "cell_type": "code",
   "execution_count": 17,
   "metadata": {},
   "outputs": [],
   "source": [
    "import re\n",
    "import pandas as pd\n",
    "\n",
    "task = '''Card 1: 41 48 83 86 17 | 83 86  6 31 17  9 48 53\n",
    "Card 2: 13 32 20 16 61 | 61 30 68 82 17 32 24 19\n",
    "Card 3:  1 21 53 59 44 | 69 82 63 72 16 21 14  1\n",
    "Card 4: 41 92 73 84 69 | 59 84 76 51 58  5 54 83\n",
    "Card 5: 87 83 26 28 32 | 88 30 70 12 93 22 82 36\n",
    "Card 6: 31 18 13 56 72 | 74 77 10 23 35 67 36 11\n",
    "'''\n",
    "\n",
    "lines = task.splitlines()\n",
    "for line in lines:\n",
    "    line = re.sub(r\"Card \\d+: \", \"\",line)\n"
   ]
  },
  {
   "cell_type": "code",
   "execution_count": null,
   "metadata": {},
   "outputs": [],
   "source": []
  },
  {
   "cell_type": "code",
   "execution_count": 24,
   "metadata": {},
   "outputs": [
    {
     "ename": "ValueError",
     "evalue": "invalid literal for int() with base 10: ''",
     "output_type": "error",
     "traceback": [
      "\u001b[0;31m---------------------------------------------------------------------------\u001b[0m",
      "\u001b[0;31mValueError\u001b[0m                                Traceback (most recent call last)",
      "\u001b[1;32m/Users/Nikolay_Khrustalev/Documents/Development/AOC 2023/04_01.ipynb Cell 2\u001b[0m line \u001b[0;36m1\n\u001b[1;32m      <a href='vscode-notebook-cell:/Users/Nikolay_Khrustalev/Documents/Development/AOC%202023/04_01.ipynb#W1sZmlsZQ%3D%3D?line=7'>8</a>\u001b[0m         numbers, answers \u001b[39m=\u001b[39m parts\n\u001b[1;32m      <a href='vscode-notebook-cell:/Users/Nikolay_Khrustalev/Documents/Development/AOC%202023/04_01.ipynb#W1sZmlsZQ%3D%3D?line=8'>9</a>\u001b[0m     numbers_list\u001b[39m.\u001b[39mappend([\u001b[39mint\u001b[39m(num) \u001b[39mfor\u001b[39;00m num \u001b[39min\u001b[39;00m numbers\u001b[39m.\u001b[39mstrip()\u001b[39m.\u001b[39msplit(\u001b[39m\"\u001b[39m\u001b[39m \u001b[39m\u001b[39m\"\u001b[39m)])\n\u001b[0;32m---> <a href='vscode-notebook-cell:/Users/Nikolay_Khrustalev/Documents/Development/AOC%202023/04_01.ipynb#W1sZmlsZQ%3D%3D?line=9'>10</a>\u001b[0m     answers_list\u001b[39m.\u001b[39mappend([\u001b[39mint\u001b[39m(num) \u001b[39mfor\u001b[39;00m num \u001b[39min\u001b[39;00m answers\u001b[39m.\u001b[39mstrip()\u001b[39m.\u001b[39msplit(\u001b[39m\"\u001b[39m\u001b[39m \u001b[39m\u001b[39m\"\u001b[39m)])\n\u001b[1;32m     <a href='vscode-notebook-cell:/Users/Nikolay_Khrustalev/Documents/Development/AOC%202023/04_01.ipynb#W1sZmlsZQ%3D%3D?line=11'>12</a>\u001b[0m data \u001b[39m=\u001b[39m {\u001b[39m\"\u001b[39m\u001b[39mnumbers\u001b[39m\u001b[39m\"\u001b[39m: numbers_list, \u001b[39m\"\u001b[39m\u001b[39manswers\u001b[39m\u001b[39m\"\u001b[39m: answers_list}\n\u001b[1;32m     <a href='vscode-notebook-cell:/Users/Nikolay_Khrustalev/Documents/Development/AOC%202023/04_01.ipynb#W1sZmlsZQ%3D%3D?line=12'>13</a>\u001b[0m df \u001b[39m=\u001b[39m pd\u001b[39m.\u001b[39mDataFrame(data)\n",
      "\u001b[1;32m/Users/Nikolay_Khrustalev/Documents/Development/AOC 2023/04_01.ipynb Cell 2\u001b[0m line \u001b[0;36m1\n\u001b[1;32m      <a href='vscode-notebook-cell:/Users/Nikolay_Khrustalev/Documents/Development/AOC%202023/04_01.ipynb#W1sZmlsZQ%3D%3D?line=7'>8</a>\u001b[0m         numbers, answers \u001b[39m=\u001b[39m parts\n\u001b[1;32m      <a href='vscode-notebook-cell:/Users/Nikolay_Khrustalev/Documents/Development/AOC%202023/04_01.ipynb#W1sZmlsZQ%3D%3D?line=8'>9</a>\u001b[0m     numbers_list\u001b[39m.\u001b[39mappend([\u001b[39mint\u001b[39m(num) \u001b[39mfor\u001b[39;00m num \u001b[39min\u001b[39;00m numbers\u001b[39m.\u001b[39mstrip()\u001b[39m.\u001b[39msplit(\u001b[39m\"\u001b[39m\u001b[39m \u001b[39m\u001b[39m\"\u001b[39m)])\n\u001b[0;32m---> <a href='vscode-notebook-cell:/Users/Nikolay_Khrustalev/Documents/Development/AOC%202023/04_01.ipynb#W1sZmlsZQ%3D%3D?line=9'>10</a>\u001b[0m     answers_list\u001b[39m.\u001b[39mappend([\u001b[39mint\u001b[39m(num) \u001b[39mfor\u001b[39;00m num \u001b[39min\u001b[39;00m answers\u001b[39m.\u001b[39mstrip()\u001b[39m.\u001b[39msplit(\u001b[39m\"\u001b[39m\u001b[39m \u001b[39m\u001b[39m\"\u001b[39m)])\n\u001b[1;32m     <a href='vscode-notebook-cell:/Users/Nikolay_Khrustalev/Documents/Development/AOC%202023/04_01.ipynb#W1sZmlsZQ%3D%3D?line=11'>12</a>\u001b[0m data \u001b[39m=\u001b[39m {\u001b[39m\"\u001b[39m\u001b[39mnumbers\u001b[39m\u001b[39m\"\u001b[39m: numbers_list, \u001b[39m\"\u001b[39m\u001b[39manswers\u001b[39m\u001b[39m\"\u001b[39m: answers_list}\n\u001b[1;32m     <a href='vscode-notebook-cell:/Users/Nikolay_Khrustalev/Documents/Development/AOC%202023/04_01.ipynb#W1sZmlsZQ%3D%3D?line=12'>13</a>\u001b[0m df \u001b[39m=\u001b[39m pd\u001b[39m.\u001b[39mDataFrame(data)\n",
      "\u001b[0;31mValueError\u001b[0m: invalid literal for int() with base 10: ''"
     ]
    }
   ],
   "source": [
    "numbers_list = []\n",
    "answers_list = []\n",
    "\n",
    "for line in lines: \n",
    "    line = re.sub(r\"Card \\d+: \", \"\",line)\n",
    "    parts = line.split(\"|\")\n",
    "    if len(parts) == 2:\n",
    "        numbers, answers = parts\n",
    "    numbers_list.append([int(num) for num in numbers.strip().split(\" \")])\n",
    "    answers_list.append([int(num) for num in answers.strip().split(\" \")])\n",
    "    \n",
    "data = {\"numbers\": numbers_list, \"answers\": answers_list}\n",
    "df = pd.DataFrame(data)"
   ]
  },
  {
   "cell_type": "code",
   "execution_count": 23,
   "metadata": {},
   "outputs": [
    {
     "data": {
      "text/html": [
       "<div>\n",
       "<style scoped>\n",
       "    .dataframe tbody tr th:only-of-type {\n",
       "        vertical-align: middle;\n",
       "    }\n",
       "\n",
       "    .dataframe tbody tr th {\n",
       "        vertical-align: top;\n",
       "    }\n",
       "\n",
       "    .dataframe thead th {\n",
       "        text-align: right;\n",
       "    }\n",
       "</style>\n",
       "<table border=\"1\" class=\"dataframe\">\n",
       "  <thead>\n",
       "    <tr style=\"text-align: right;\">\n",
       "      <th></th>\n",
       "      <th>numbers</th>\n",
       "      <th>answers</th>\n",
       "    </tr>\n",
       "  </thead>\n",
       "  <tbody>\n",
       "    <tr>\n",
       "      <th>0</th>\n",
       "      <td>&lt;generator object &lt;genexpr&gt; at 0x1418e2960&gt;</td>\n",
       "      <td>&lt;generator object &lt;genexpr&gt; at 0x1418e2ea0&gt;</td>\n",
       "    </tr>\n",
       "    <tr>\n",
       "      <th>1</th>\n",
       "      <td>&lt;generator object &lt;genexpr&gt; at 0x1418e2ce0&gt;</td>\n",
       "      <td>&lt;generator object &lt;genexpr&gt; at 0x1418e2a40&gt;</td>\n",
       "    </tr>\n",
       "    <tr>\n",
       "      <th>2</th>\n",
       "      <td>&lt;generator object &lt;genexpr&gt; at 0x1418e2c00&gt;</td>\n",
       "      <td>&lt;generator object &lt;genexpr&gt; at 0x1418e2dc0&gt;</td>\n",
       "    </tr>\n",
       "    <tr>\n",
       "      <th>3</th>\n",
       "      <td>&lt;generator object &lt;genexpr&gt; at 0x1418e2f80&gt;</td>\n",
       "      <td>&lt;generator object &lt;genexpr&gt; at 0x1418e33e0&gt;</td>\n",
       "    </tr>\n",
       "    <tr>\n",
       "      <th>4</th>\n",
       "      <td>&lt;generator object &lt;genexpr&gt; at 0x1418e3220&gt;</td>\n",
       "      <td>&lt;generator object &lt;genexpr&gt; at 0x1418e3140&gt;</td>\n",
       "    </tr>\n",
       "    <tr>\n",
       "      <th>5</th>\n",
       "      <td>&lt;generator object &lt;genexpr&gt; at 0x1418e3300&gt;</td>\n",
       "      <td>&lt;generator object &lt;genexpr&gt; at 0x1418e3060&gt;</td>\n",
       "    </tr>\n",
       "  </tbody>\n",
       "</table>\n",
       "</div>"
      ],
      "text/plain": [
       "                                       numbers  \\\n",
       "0  <generator object <genexpr> at 0x1418e2960>   \n",
       "1  <generator object <genexpr> at 0x1418e2ce0>   \n",
       "2  <generator object <genexpr> at 0x1418e2c00>   \n",
       "3  <generator object <genexpr> at 0x1418e2f80>   \n",
       "4  <generator object <genexpr> at 0x1418e3220>   \n",
       "5  <generator object <genexpr> at 0x1418e3300>   \n",
       "\n",
       "                                       answers  \n",
       "0  <generator object <genexpr> at 0x1418e2ea0>  \n",
       "1  <generator object <genexpr> at 0x1418e2a40>  \n",
       "2  <generator object <genexpr> at 0x1418e2dc0>  \n",
       "3  <generator object <genexpr> at 0x1418e33e0>  \n",
       "4  <generator object <genexpr> at 0x1418e3140>  \n",
       "5  <generator object <genexpr> at 0x1418e3060>  "
      ]
     },
     "execution_count": 23,
     "metadata": {},
     "output_type": "execute_result"
    }
   ],
   "source": [
    "df"
   ]
  },
  {
   "cell_type": "code",
   "execution_count": null,
   "metadata": {},
   "outputs": [],
   "source": []
  }
 ],
 "metadata": {
  "kernelspec": {
   "display_name": "base",
   "language": "python",
   "name": "python3"
  },
  "language_info": {
   "codemirror_mode": {
    "name": "ipython",
    "version": 3
   },
   "file_extension": ".py",
   "mimetype": "text/x-python",
   "name": "python",
   "nbconvert_exporter": "python",
   "pygments_lexer": "ipython3",
   "version": "3.11.5"
  }
 },
 "nbformat": 4,
 "nbformat_minor": 2
}
