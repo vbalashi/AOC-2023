{
 "cells": [
  {
   "cell_type": "code",
   "execution_count": 115,
   "metadata": {},
   "outputs": [],
   "source": [
    "import re\n",
    "import pandas as pd\n",
    "\n",
    "task = '''Card 1: 41 48 83 86 17 | 83 86  6 31 17  9 48 53\n",
    "Card 2: 13 32 20 16 61 | 61 30 68 82 17 32 24 19\n",
    "Card 3:  1 21 53 59 44 | 69 82 63 72 16 21 14  1\n",
    "Card 4: 41 92 73 84 69 | 59 84 76 51 58  5 54 83\n",
    "Card 5: 87 83 26 28 32 | 88 30 70 12 93 22 82 36\n",
    "Card 6: 31 18 13 56 72 | 74 77 10 23 35 67 36 11\n",
    "'''\n",
    "\n",
    "lines = task.splitlines()\n",
    "for line in lines:\n",
    "    line = re.sub(r\"Card \\d+: \", \"\",line)\n"
   ]
  },
  {
   "cell_type": "code",
   "execution_count": 116,
   "metadata": {},
   "outputs": [],
   "source": [
    "file_path = '04_task02.txt'  # Replace with your file path\n",
    "with open(file_path, 'r') as file:\n",
    "    lines = file.readlines()"
   ]
  },
  {
   "cell_type": "code",
   "execution_count": 117,
   "metadata": {},
   "outputs": [],
   "source": [
    "numbers_list = []\n",
    "answers_list = []\n",
    "\n",
    "for line in lines: \n",
    "    line = re.sub(r\"Card +\\d+: \", \"\",line)\n",
    "    parts = line.split(\"|\")\n",
    "    if len(parts) == 2:\n",
    "        numbers, answers = parts\n",
    "    numbers_list.append([int(num) for num in re.split(r'\\D+', numbers.strip()) if num.strip()])\n",
    "    answers_list.append([int(ans) for ans in re.split(r'\\D+', answers.strip()) if ans.strip()])\n",
    "    \n",
    "data = {\"numbers\": numbers_list, \"answers\": answers_list}\n",
    "df = pd.DataFrame(data)"
   ]
  },
  {
   "cell_type": "code",
   "execution_count": 118,
   "metadata": {},
   "outputs": [],
   "source": [
    "def intersection_power(line_index):\n",
    "    # print(set(df.iloc[index_x]['numbers']).intersection(set(df.iloc[index_x]['answers'])))\n",
    "    power = len(set(df.iloc[line_index]['numbers']).intersection(set(df.iloc[line_index]['answers']))) - 1\n",
    "    if power >= 0:\n",
    "        return power\n",
    "    else:\n",
    "        return None\n"
   ]
  },
  {
   "cell_type": "code",
   "execution_count": 119,
   "metadata": {},
   "outputs": [],
   "source": [
    "for index, row in df.iterrows():\n",
    "    # print(index, len(set(df.iloc[index]['numbers']).intersection(set(df.iloc[index]['answers']))) - 1, set(df.iloc[index]['numbers']).intersection(set(df.iloc[index]['answers'])))\n",
    "    power = intersection_power(index)\n",
    "    # print(index, power)\n",
    "    df.at[index, 'points_power'] = 0\n",
    "    if power != None:\n",
    "        df.at[index, 'points_power'] = 2 ** intersection_power(index)\n"
   ]
  },
  {
   "cell_type": "code",
   "execution_count": 120,
   "metadata": {},
   "outputs": [
    {
     "data": {
      "text/plain": [
       "25183.0"
      ]
     },
     "execution_count": 120,
     "metadata": {},
     "output_type": "execute_result"
    }
   ],
   "source": [
    "sum(df['points_power'])"
   ]
  },
  {
   "cell_type": "code",
   "execution_count": 114,
   "metadata": {},
   "outputs": [
    {
     "name": "stdout",
     "output_type": "stream",
     "text": [
      "[25, 40, 3, 51, 19, 69, 68, 27, 7, 62]\n",
      "[25, 40, 3, 51, 19, 69, 68, 27, 7, 62]\n",
      "[55, 59, 45, 78, 87, 48, 13, 50, 94, 46, 65, 1, 66, 21, 70, 28, 8, 81, 42, 2, 23, 36, 54, 26, 10]\n",
      "[55, 59, 45, 78, 87, 48, 13, 50, 94, 46, 65, 1, 66, 21, 70, 28, 8, 81, 42, 2, 23, 36, 54, 26, 10]\n"
     ]
    }
   ],
   "source": [
    "\n",
    "line1 = \"Card  45: 25 40  3 51 19 69 68 27  7 62 | 55 59 45 78 87 48 13 50 94 46 65  1 66 21 70 28  8 81 42  2 23 36 54 26 10\"\n",
    "\n",
    "line1 = re.sub(r\"Card +\\d+: \", \"\",line1)\n",
    "parts = line1.split(\"|\")\n",
    "if len(parts) == 2:\n",
    "    numbers, answers = parts\n",
    "\n",
    "\n",
    "print([int(ans) for ans in re.split(r'\\D+', numbers.strip()) if ans.strip()])\n",
    "print([int(ans) for ans in re.split(r'\\D+', numbers.strip())])\n",
    "print([int(ans) for ans in re.split(r'\\D+', answers.strip()) if ans.strip()])\n",
    "print([int(ans) for ans in re.split(r'\\D+', answers.strip())])\n",
    "\n"
   ]
  },
  {
   "cell_type": "code",
   "execution_count": null,
   "metadata": {},
   "outputs": [],
   "source": []
  }
 ],
 "metadata": {
  "kernelspec": {
   "display_name": "base",
   "language": "python",
   "name": "python3"
  },
  "language_info": {
   "codemirror_mode": {
    "name": "ipython",
    "version": 3
   },
   "file_extension": ".py",
   "mimetype": "text/x-python",
   "name": "python",
   "nbconvert_exporter": "python",
   "pygments_lexer": "ipython3",
   "version": "3.11.5"
  }
 },
 "nbformat": 4,
 "nbformat_minor": 2
}
