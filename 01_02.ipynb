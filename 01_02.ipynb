{
 "cells": [
  {
   "cell_type": "code",
   "execution_count": 12,
   "metadata": {},
   "outputs": [
    {
     "data": {
      "text/plain": [
       "'148hzeigh2r'"
      ]
     },
     "execution_count": 12,
     "metadata": {},
     "output_type": "execute_result"
    }
   ],
   "source": [
    "import re\n",
    "\n",
    "digit_words = {\n",
    "    'one': '1',\n",
    "    'two': '2',\n",
    "    'three': '3',\n",
    "    'four': '4',\n",
    "    'five': '5',\n",
    "    'six': '6',\n",
    "    'seven': '7',\n",
    "    'eight': '8',\n",
    "    'nine': '9'\n",
    "}\n",
    "\n",
    "def replace_with_number(match):\n",
    "    word = match.group(0)\n",
    "    return digit_words.get(word, \"\")\n",
    "\n",
    "def reversed_replace_with_number(match):\n",
    "    word = match.group(0)\n",
    "    return digit_words.get(word[::-1], \"\")\n",
    "\n",
    "if not re.search('\\d+', s[:match[0].start()]):\n",
    "    s = re.sub(pattern, replace_with_number,s, count=1)\n",
    "\n",
    "pattern = '|'.join(re.escape(word) for word in digit_words.keys())\n",
    "s = '148hzeightwor'\n",
    "\n",
    "string_reversed = s[::-1]\n",
    "pattern_reversed = pattern[::-1]\n",
    "\n",
    "# Replace the first (leftmost) occurrence in the reversed string\n",
    "replaced_reversed = re.sub(pattern_reversed, reversed_replace_with_number, string_reversed, count=1)\n",
    "replaced_reversed[::-1]\n",
    "\n",
    "# re.sub(pattern, replace_with_number,s, count=1)"
   ]
  },
  {
   "cell_type": "code",
   "execution_count": 11,
   "metadata": {},
   "outputs": [
    {
     "data": {
      "text/plain": [
       "'hz8wor'"
      ]
     },
     "execution_count": 11,
     "metadata": {},
     "output_type": "execute_result"
    }
   ],
   "source": [
    "s = '148hzeightwor'\n",
    "\n",
    "match = list(re.finditer(pattern, s))\n",
    "\n",
    "if not re.search('\\d+', s[:match[0].start()]):\n",
    "    s = re.sub(pattern, replace_with_number,s, count=1)\n",
    "\n",
    "s"
   ]
  },
  {
   "cell_type": "code",
   "execution_count": 8,
   "metadata": {},
   "outputs": [
    {
     "data": {
      "text/plain": [
       "'148hzeightwor'"
      ]
     },
     "execution_count": 8,
     "metadata": {},
     "output_type": "execute_result"
    }
   ],
   "source": [
    "s"
   ]
  },
  {
   "cell_type": "code",
   "execution_count": null,
   "metadata": {},
   "outputs": [],
   "source": []
  }
 ],
 "metadata": {
  "kernelspec": {
   "display_name": "base",
   "language": "python",
   "name": "python3"
  },
  "language_info": {
   "codemirror_mode": {
    "name": "ipython",
    "version": 3
   },
   "file_extension": ".py",
   "mimetype": "text/x-python",
   "name": "python",
   "nbconvert_exporter": "python",
   "pygments_lexer": "ipython3",
   "version": "3.11.5"
  }
 },
 "nbformat": 4,
 "nbformat_minor": 2
}
