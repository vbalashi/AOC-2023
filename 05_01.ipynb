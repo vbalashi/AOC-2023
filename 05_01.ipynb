{
 "cells": [
  {
   "cell_type": "code",
   "execution_count": 1,
   "metadata": {},
   "outputs": [],
   "source": [
    "import pandas as pd\n",
    "\n",
    "# Initialize an empty dictionary to hold dataframes\n",
    "dataframes = {}\n",
    "\n",
    "# Function to process each section\n",
    "def process_section(section_header, lines):\n",
    "    # Assuming each line of data is space-separated\n",
    "    data = [list(map(int, line.split())) for line in lines]\n",
    "    df = pd.DataFrame(data)\n",
    "    dataframes[section_header] = df\n",
    "\n",
    "file_path = '05_task01.txt' \n",
    "with open(file_path, 'r') as file:\n",
    "    input_data = file.readlines()\n",
    "\n",
    "current_section = None\n",
    "section_data = []\n",
    "\n",
    "for line in input_data:\n",
    "    if line.endswith('= []'):  # This identifies a new section\n",
    "        if current_section is not None:\n",
    "            # Process the previous section\n",
    "            process_section(current_section, section_data)\n",
    "            section_data = []\n",
    "        current_section = line[:-5]  # Remove ' = []' to get section name\n",
    "    else:\n",
    "        if line.strip():  # Ignore empty lines\n",
    "            section_data.append(line)\n",
    "\n",
    "# Don't forget to process the last section\n",
    "if current_section is not None:\n",
    "    process_section(current_section, section_data)\n",
    "\n",
    "# Now you have a dictionary `dataframes` with each section's data in a dataframe\n"
   ]
  },
  {
   "cell_type": "code",
   "execution_count": 2,
   "metadata": {},
   "outputs": [
    {
     "data": {
      "text/plain": [
       "{}"
      ]
     },
     "execution_count": 2,
     "metadata": {},
     "output_type": "execute_result"
    }
   ],
   "source": [
    "dataframes"
   ]
  },
  {
   "cell_type": "code",
   "execution_count": 4,
   "metadata": {},
   "outputs": [
    {
     "ename": "SyntaxError",
     "evalue": "cannot assign to expression here. Maybe you meant '==' instead of '='? (242118942.py, line 1)",
     "output_type": "error",
     "traceback": [
      "\u001b[0;36m  Cell \u001b[0;32mIn[4], line 1\u001b[0;36m\u001b[0m\n\u001b[0;31m    seed-to-soil = []\u001b[0m\n\u001b[0m    ^\u001b[0m\n\u001b[0;31mSyntaxError\u001b[0m\u001b[0;31m:\u001b[0m cannot assign to expression here. Maybe you meant '==' instead of '='?\n"
     ]
    }
   ],
   "source": [
    "seed-to-soil = []\n",
    "soil-to-fertilizer = []\n",
    "fertilizer-to-water = []\n",
    "water-to-light = []\n",
    "light-to-temperature = []\n",
    "temperature-to-humidity = []\n",
    "humidity-to-location = []"
   ]
  },
  {
   "cell_type": "code",
   "execution_count": null,
   "metadata": {},
   "outputs": [],
   "source": []
  }
 ],
 "metadata": {
  "kernelspec": {
   "display_name": "base",
   "language": "python",
   "name": "python3"
  },
  "language_info": {
   "codemirror_mode": {
    "name": "ipython",
    "version": 3
   },
   "file_extension": ".py",
   "mimetype": "text/x-python",
   "name": "python",
   "nbconvert_exporter": "python",
   "pygments_lexer": "ipython3",
   "version": "3.11.5"
  }
 },
 "nbformat": 4,
 "nbformat_minor": 2
}
