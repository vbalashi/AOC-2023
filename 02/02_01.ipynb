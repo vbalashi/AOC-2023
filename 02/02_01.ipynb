{
 "cells": [
  {
   "cell_type": "code",
   "execution_count": 77,
   "metadata": {},
   "outputs": [],
   "source": [
    "from operator import truediv\n",
    "from pickle import TRUE\n",
    "import re\n",
    "import sys\n",
    "\n",
    "red_max = 12\n",
    "green_max = 13\n",
    "blue_max = 14\n",
    "\n",
    "def green_has_outlier(line: str) -> bool:\n",
    "    green_values = re.findall(r'(\\d+) green', line)\n",
    "    int_list = list(map(int, green_values))\n",
    "    is_outlier = False\n",
    "    if max(int_list)>green_max:\n",
    "        is_outlier = True \n",
    "    return is_outlier \n",
    "\n",
    "def blue_has_outlier(line: str) -> bool:\n",
    "    blue_values = re.findall(r'(\\d+) blue', line)\n",
    "    int_list = list(map(int, blue_values))\n",
    "    is_outlier = False\n",
    "    if max(int_list)>blue_max:\n",
    "        is_outlier = True \n",
    "    return is_outlier \n",
    "\n",
    "def red_has_outlier(line: str) -> bool:\n",
    "    red_values = re.findall(r'(\\d+) red', line)\n",
    "    int_list = list(map(int, red_values))\n",
    "    is_outlier = False\n",
    "    if max(int_list)>red_max:\n",
    "        is_outlier = True \n",
    "    return is_outlier \n",
    "\n",
    "def outlier_in_line(line: str) -> bool:\n",
    "    return green_has_outlier(line) or blue_has_outlier(line) or red_has_outlier(line)"
   ]
  },
  {
   "cell_type": "code",
   "execution_count": 30,
   "metadata": {},
   "outputs": [],
   "source": [
    "task = \"\"\"Game 1: 3 blue, 4 red; 1 red, 2 green, 6 blue; 2 green\n",
    "Game 2: 1 blue, 2 green; 3 green, 4 blue, 1 red; 1 green, 1 blue\n",
    "Game 3: 8 green, 6 blue, 20 red; 5 blue, 4 red, 13 green; 5 green, 1 red\n",
    "Game 4: 1 green, 3 red, 6 blue; 3 green, 6 red; 3 green, 15 blue, 14 red\n",
    "Game 5: 6 red, 1 blue, 3 green; 2 blue, 1 red, 2 green\n",
    "\"\"\""
   ]
  },
  {
   "cell_type": "code",
   "execution_count": 78,
   "metadata": {},
   "outputs": [
    {
     "name": "stdout",
     "output_type": "stream",
     "text": [
      "1\n",
      "2\n",
      "5\n",
      "8\n"
     ]
    }
   ],
   "source": [
    "sum = 0\n",
    "id = 0\n",
    "for line in task.splitlines():\n",
    "    id += 1\n",
    "    if not outlier_in_line(line):\n",
    "        sum += id\n",
    "        print(id)\n",
    "print(sum)\n"
   ]
  },
  {
   "cell_type": "code",
   "execution_count": 64,
   "metadata": {},
   "outputs": [
    {
     "name": "stdout",
     "output_type": "stream",
     "text": [
      "True\n",
      "True\n"
     ]
    }
   ],
   "source": [
    "is_outlier = False\n",
    "if max([8, 13, 5])>green_max:\n",
    "    is_outlier = True \n",
    "\n",
    "print(max([8, 13, 5])>green_max)\n",
    "print(is_outlier)"
   ]
  },
  {
   "cell_type": "code",
   "execution_count": null,
   "metadata": {},
   "outputs": [],
   "source": []
  }
 ],
 "metadata": {
  "kernelspec": {
   "display_name": "Python 3",
   "language": "python",
   "name": "python3"
  },
  "language_info": {
   "codemirror_mode": {
    "name": "ipython",
    "version": 3
   },
   "file_extension": ".py",
   "mimetype": "text/x-python",
   "name": "python",
   "nbconvert_exporter": "python",
   "pygments_lexer": "ipython3",
   "version": "3.11.5"
  }
 },
 "nbformat": 4,
 "nbformat_minor": 2
}
