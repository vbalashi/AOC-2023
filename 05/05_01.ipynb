{
 "cells": [
  {
   "cell_type": "code",
   "execution_count": 1,
   "metadata": {},
   "outputs": [],
   "source": [
    "with open(\"05_task02.txt\") as f:\n",
    "    seeds, *maps = f.read().strip().split('\\n\\n')\n",
    "    seeds = list(map(int, seeds.split()[1:]))\n",
    "    \n"
   ]
  },
  {
   "cell_type": "code",
   "execution_count": 6,
   "metadata": {},
   "outputs": [
    {
     "name": "stdout",
     "output_type": "stream",
     "text": [
      "226172555\n"
     ]
    }
   ],
   "source": [
    "from functools import reduce\n",
    "\n",
    "\n",
    "def part1():\n",
    "    def search (s, m):\n",
    "        _, *ranges = m.split('\\n')\n",
    "        for r in ranges:\n",
    "            dest, src, c = map(int, r.split())\n",
    "            if src <= s < src+c:\n",
    "                return s-src+dest\n",
    "        else:\n",
    "            return s\n",
    "    \n",
    "    return min(reduce(search, maps, s) for s in seeds)\n",
    "\n",
    "print(part1())"
   ]
  },
  {
   "cell_type": "code",
   "execution_count": 7,
   "metadata": {},
   "outputs": [],
   "source": [
    "seeds2 = []\n",
    "\n",
    "for i in range(len(seeds)):\n",
    "    if (i < len(seeds)-1) and i%2==0:\n",
    "       for y in range(seeds[i], seeds[i]+seeds[i+1]):\n",
    "           seeds2.append(y) \n",
    "\n",
    "seeds = seeds2\n",
    "\n",
    "print(part1())"
   ]
  },
  {
   "cell_type": "code",
   "execution_count": null,
   "metadata": {},
   "outputs": [],
   "source": []
  }
 ],
 "metadata": {
  "kernelspec": {
   "display_name": "base",
   "language": "python",
   "name": "python3"
  },
  "language_info": {
   "codemirror_mode": {
    "name": "ipython",
    "version": 3
   },
   "file_extension": ".py",
   "mimetype": "text/x-python",
   "name": "python",
   "nbconvert_exporter": "python",
   "pygments_lexer": "ipython3",
   "version": "3.11.5"
  }
 },
 "nbformat": 4,
 "nbformat_minor": 2
}
